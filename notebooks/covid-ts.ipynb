{
 "cells": [
  {
   "cell_type": "markdown",
   "source": [
    "# Modelos de séries temporais do Covid-19\r\n",
    "\r\n",
    "Francisco Rosa Dias de Miranda\r\n",
    "\r\n",
    "PREDICT-ICMC\r\n",
    "\r\n",
    "Universidade de São Paulo"
   ],
   "metadata": {}
  },
  {
   "cell_type": "code",
   "execution_count": null,
   "source": [
    "import pandas as pd\r\n",
    "from pycaret.time_series import *"
   ],
   "outputs": [],
   "metadata": {}
  },
  {
   "cell_type": "markdown",
   "source": [
    "## Leitura dos Dados\r\n",
    "\r\n",
    "Vamos utilizar nesse exemplo uma amostra com 30.000 observações de pacientes internados no estado de São Paulo entre 28/02/2020 e 31/07/2021, já pré-processada. A proporção de óbitos no conjunto de dados está na proporção 70:30, para termos dados menos desbalanceados."
   ],
   "metadata": {}
  },
  {
   "cell_type": "code",
   "execution_count": null,
   "source": [
    "dados = pd.read_csv(\"https://github.com/predict-icmc/covid19/raw/master/leitura-dados/ae.csv\")\r\n",
    "dados.head()"
   ],
   "outputs": [],
   "metadata": {}
  },
  {
   "cell_type": "code",
   "execution_count": null,
   "source": [
    "# drop columns that are not needed\r\n",
    "drop = ['Unnamed: 0','IGNORADO', 'INDEFINIDO', 'MASCULINO']\r\n",
    "dados = dados.drop(drop, axis=1)"
   ],
   "outputs": [],
   "metadata": {}
  },
  {
   "cell_type": "markdown",
   "source": [
    "## Data splitting\r\n",
    "\r\n",
    "Vamos dividir nossos dados em treino e teste, este último contendo 80% da amostra. Esse passo não é necessário, mas faremos para testar nosso classificador."
   ],
   "metadata": {}
  },
  {
   "cell_type": "code",
   "execution_count": null,
   "source": [
    "# split 20% of amos_aleat to test and 80% to train\r\n",
    "test = dados.sample(frac=0.2, random_state=42)\r\n",
    "train = dados.drop(dados.index)"
   ],
   "outputs": [],
   "metadata": {}
  },
  {
   "cell_type": "markdown",
   "source": [
    "## Definição dos atributos\r\n",
    "\r\n",
    "O dicionário de dados para este conjunto pode ser encontrado em:\r\n",
    "\r\n",
    "Utilizaremos os fatores de risco como variáveis categóricas e a idade como variável numérica.\r\n",
    "\r\n",
    "Nossa variável resposta é `óbito`."
   ],
   "metadata": {}
  },
  {
   "cell_type": "code",
   "execution_count": null,
   "source": [
    "categorical = ['asma', 'cardiopatia', 'diabetes', 'doenca_hematologica', 'doenca_hepatica',\r\n",
    "'doenca_neurologica', 'doenca_renal', 'imunodepressao', 'obesidade', 'outros_fatores_de_risco',\r\n",
    "'pneumopatia','puerpera','sindrome_de_down', \"FEMININO\"]\r\n",
    "\r\n",
    "numeric = ['idade']"
   ],
   "outputs": [],
   "metadata": {}
  },
  {
   "cell_type": "markdown",
   "source": [
    "## Setup"
   ],
   "metadata": {}
  },
  {
   "cell_type": "code",
   "execution_count": null,
   "source": [
    "clf = setup(data = train, target='obito', test_data=test,\r\n",
    "            categorical_features = categorical,\r\n",
    "            numeric_features = numeric,\r\n",
    "            remove_multicollinearity = True, \r\n",
    "            feature_selection = True,\r\n",
    "            session_id = 4336)"
   ],
   "outputs": [],
   "metadata": {}
  },
  {
   "cell_type": "markdown",
   "source": [
    "## Comparando os modelos"
   ],
   "metadata": {}
  },
  {
   "cell_type": "code",
   "execution_count": null,
   "source": [
    "compare_models()"
   ],
   "outputs": [],
   "metadata": {}
  },
  {
   "cell_type": "markdown",
   "source": [
    "## Criando modelo: regressão logística"
   ],
   "metadata": {}
  },
  {
   "cell_type": "code",
   "execution_count": null,
   "source": [
    "lr = create_model('lr')"
   ],
   "outputs": [],
   "metadata": {}
  },
  {
   "cell_type": "markdown",
   "source": [
    "## Tunando o modelo de regressão logística"
   ],
   "metadata": {}
  },
  {
   "cell_type": "code",
   "execution_count": null,
   "source": [
    "tuned_lr = tune_model(lr)\r\n",
    "print(tuned_lr)"
   ],
   "outputs": [],
   "metadata": {}
  },
  {
   "cell_type": "markdown",
   "source": [
    "## Avaliando ao modelo"
   ],
   "metadata": {}
  },
  {
   "cell_type": "code",
   "execution_count": null,
   "source": [
    "evaluate_model(tuned_lr)"
   ],
   "outputs": [],
   "metadata": {}
  },
  {
   "cell_type": "markdown",
   "source": [
    "## Previsões dentro da amostra de treino"
   ],
   "metadata": {}
  },
  {
   "cell_type": "code",
   "execution_count": null,
   "source": [
    "predict_model(tuned_lr)"
   ],
   "outputs": [],
   "metadata": {}
  },
  {
   "cell_type": "markdown",
   "source": [
    "## Finalizando o modelo"
   ],
   "metadata": {}
  },
  {
   "cell_type": "code",
   "execution_count": null,
   "source": [
    "final_tuned_lr = finalize_model(tuned_lr)\r\n",
    "print(final_tuned_lr)"
   ],
   "outputs": [],
   "metadata": {}
  },
  {
   "cell_type": "markdown",
   "source": [
    "## Previsões na amostra de teste"
   ],
   "metadata": {}
  },
  {
   "cell_type": "code",
   "execution_count": null,
   "source": [
    "unseen_predictions_ale = predict_model(final_tuned_lr, data=test)\r\n",
    "unseen_predictions_ale.tail()"
   ],
   "outputs": [],
   "metadata": {}
  },
  {
   "cell_type": "markdown",
   "source": [
    "## Interpretar o modelo"
   ],
   "metadata": {}
  },
  {
   "cell_type": "code",
   "execution_count": null,
   "source": [
    "interpret_model(final_tuned_lr)"
   ],
   "outputs": [],
   "metadata": {}
  },
  {
   "cell_type": "markdown",
   "source": [
    "## Referências\r\n",
    "\r\n",
    "\r\n",
    "- **pycaret.org**. PyCaret, April 2020. URL https://pycaret.org/about. PyCaret version 1.0.0.\r\n"
   ],
   "metadata": {}
  }
 ],
 "metadata": {
  "orig_nbformat": 4,
  "language_info": {
   "name": "python"
  }
 },
 "nbformat": 4,
 "nbformat_minor": 2
}